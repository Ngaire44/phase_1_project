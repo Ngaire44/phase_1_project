{
 "cells": [
  {
   "cell_type": "markdown",
   "id": "163bbf2d",
   "metadata": {},
   "source": [
    "# Aviation Risk Analysis"
   ]
  },
  {
   "cell_type": "markdown",
   "id": "c8f0afe3",
   "metadata": {},
   "source": [
    "## 📊 Data-Driven Strategy to entering the aviation industry\n",
    "This project uses the National Transportation Safety Board aviation accident data from 1962 to 2023 in United States and international waters. We will use this to identify strategic opportunities, risks and patterns.\n",
    "\n",
    "Through exploratory data analysis, trends and visualizations, we will give concrete data-driven business recommendations. This will help investors, insurers assess the risk exposurers and make informed decisions that are low risk.\n"
   ]
  },
  {
   "cell_type": "markdown",
   "id": "dde27d70",
   "metadata": {},
   "source": [
    "## ❓ Key Business Questions\n",
    "As we seek the answers to the questions below, the questions will guide the direction of my project\n",
    "1. Which aircraft make are least frequently involved in accidents\n",
    "    This helps decide on the make or manufacturers(amateur built)\n",
    "2. What are the most common causes of aviation accidents\n",
    "    This helps to understand risk trends, are newer models safer than older one\n",
    "3. What percentage of accidents are survivable and what factors influence survivability?\n",
    "    Here, we will check on engines, weather\n",
    "4. How do accident rates vary by operator type (commercial vs private)\n",
    "    This help to decide the aviation sector to indulge in\n",
    "5. Are there seasonal patterns in aviation accidents\n",
    "    This helps comin weather contingency planning\n",
    "6. What factors contribute to fatal accidents(weather, broad phase of flight)\n",
    "    Helps decide on aircraft specs"
   ]
  },
  {
   "cell_type": "markdown",
   "id": "1266f55a",
   "metadata": {},
   "source": [
    "## 📂Data Understanding\n",
    "\n",
    "In this section, we examine the datasets used in the project. We familiarize ourselves with the dataset structure. We thoroughly go through the columns and rows, identify missing data, categorical grouping and data range.\n",
    "\n",
    "We analyze the data quality by checking for completeness,consistency, uniqueness and distributions. A clean dataset gives clear and accurate analysis and visualizations.\n",
    "\n"
   ]
  },
  {
   "cell_type": "markdown",
   "id": "b6a8189d",
   "metadata": {},
   "source": [
    "## Data Preparation\n",
    "\n",
    "### 🧼Data cleaning\n",
    "The goal of data cleaning is to transform the raw dataset into a structured and reliable format suitable for analysis. Key steps included:\n",
    "Missing Value Handling, Drop columns with excessive missing data, Impute missing values using appropriate statistical or categorical strategies, Data Filtering,\n",
    "Remove irrelevant or incomplete records (e.g. non-aircraft incidents or missing key variables), Categorical Grouping, Group low-frequency entries under broader labels (e.g. \"Other\"), Data Type Correction, Convert date columns to proper datetime format, Ensure numerical columns were correctly typed for analysis, and\n",
    "Outlier Treatment.\n",
    "These steps ensure we have a clean, consistent, and relevant dataset to move forward with meaningful visualizations and business insights.\n",
    "\n"
   ]
  },
  {
   "cell_type": "markdown",
   "id": "6cb48891",
   "metadata": {},
   "source": []
  }
 ],
 "metadata": {
  "kernelspec": {
   "display_name": "learn-env",
   "language": "python",
   "name": "python3"
  },
  "language_info": {
   "name": "python",
   "version": "3.8.5"
  }
 },
 "nbformat": 4,
 "nbformat_minor": 5
}
