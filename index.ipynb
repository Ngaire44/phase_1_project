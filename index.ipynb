{
 "cells": [
  {
   "cell_type": "markdown",
   "id": "163bbf2d",
   "metadata": {},
   "source": [
    "# AVIATION RISK ANALYSIS"
   ]
  },
  {
   "cell_type": "markdown",
   "id": "c8f0afe3",
   "metadata": {},
   "source": [
    "## 📊 Data-Driven Strategy to entering the aviation industry\n",
    "This project uses the National Transportation Safety Board aviation accident data from 1962 to 2023 in United States and international waters. We will use this to identify strategic opportunities, risks and patterns.\n",
    "\n",
    "Through exploratory data analysis, trends and visualizations, we will give concrete data-driven business recommendations. This will help investors, insurers assess the risk exposurers and make informed decisions that are low risk.\n"
   ]
  },
  {
   "cell_type": "markdown",
   "id": "dde27d70",
   "metadata": {},
   "source": [
    "### ❓ Key Business Questions\n",
    "As we seek the answers to the questions below, the questions will guide the direction of my project\n",
    "1. Which aircraft make are least frequently involved in accidents\n",
    "    - This helps decide on the make or manufacturers(amateur built)\n",
    "2. What are the most common causes of aviation accidents\n",
    "    - This helps to understand risk trends, are newer models safer than older one\n",
    "3. What percentage of accidents are survivable and what factors influence survivability?\n",
    "    - Here, we will check on engines, weather\n",
    "4. How do accident rates vary by operator type (commercial vs private)\n",
    "    - This help to decide the aviation sector to indulge in\n",
    "5. Are there seasonal patterns in aviation accidents\n",
    "    - This helps in weather contingency planning\n",
    "6. What factors contribute to fatal accidents(weather, broad phase of flight)\n",
    "    - Helps decide on aircraft specs"
   ]
  },
  {
   "cell_type": "markdown",
   "id": "1266f55a",
   "metadata": {},
   "source": [
    "## 📂Data Understanding\n",
    "\n",
    "In this section, we examine the datasets used in the project from the National Transportation Safety Board aviation accident data from [Our Dataset](https://www.kaggle.com/datasets/khsamaha/aviation-accident-database-synopses). We familiarize ourselves with the dataset structure. We thoroughly go through the columns and rows, identify missing data, categorical grouping and data range.\n",
    "\n",
    "We analyze the data quality by checking for completeness,consistency, uniqueness and distributions. A clean dataset gives clear and accurate analysis and visualizations.\n",
    "\n"
   ]
  },
  {
   "cell_type": "code",
   "execution_count": 1,
   "id": "d5d7c7b3",
   "metadata": {},
   "outputs": [],
   "source": [
    "# Importing data\n",
    "import pandas as pd\n",
    "import numpy as np\n",
    "import matplotlib.pyplot as plt\n",
    "import seaborn as sns\n"
   ]
  },
  {
   "cell_type": "code",
   "execution_count": 2,
   "id": "66044e70",
   "metadata": {},
   "outputs": [],
   "source": [
    "#import the csv file AviationData\n",
    "AviData = pd.read_csv('Data\\AviationData.csv', encoding= 'latin1', low_memory= False)"
   ]
  },
  {
   "cell_type": "code",
   "execution_count": 3,
   "id": "5b3a1ba1",
   "metadata": {},
   "outputs": [
    {
     "data": {
      "text/html": [
       "<div>\n",
       "<style scoped>\n",
       "    .dataframe tbody tr th:only-of-type {\n",
       "        vertical-align: middle;\n",
       "    }\n",
       "\n",
       "    .dataframe tbody tr th {\n",
       "        vertical-align: top;\n",
       "    }\n",
       "\n",
       "    .dataframe thead th {\n",
       "        text-align: right;\n",
       "    }\n",
       "</style>\n",
       "<table border=\"1\" class=\"dataframe\">\n",
       "  <thead>\n",
       "    <tr style=\"text-align: right;\">\n",
       "      <th></th>\n",
       "      <th>Event.Id</th>\n",
       "      <th>Investigation.Type</th>\n",
       "      <th>Accident.Number</th>\n",
       "      <th>Event.Date</th>\n",
       "      <th>Location</th>\n",
       "      <th>Country</th>\n",
       "      <th>Latitude</th>\n",
       "      <th>Longitude</th>\n",
       "      <th>Airport.Code</th>\n",
       "      <th>Airport.Name</th>\n",
       "      <th>...</th>\n",
       "      <th>Purpose.of.flight</th>\n",
       "      <th>Air.carrier</th>\n",
       "      <th>Total.Fatal.Injuries</th>\n",
       "      <th>Total.Serious.Injuries</th>\n",
       "      <th>Total.Minor.Injuries</th>\n",
       "      <th>Total.Uninjured</th>\n",
       "      <th>Weather.Condition</th>\n",
       "      <th>Broad.phase.of.flight</th>\n",
       "      <th>Report.Status</th>\n",
       "      <th>Publication.Date</th>\n",
       "    </tr>\n",
       "  </thead>\n",
       "  <tbody>\n",
       "    <tr>\n",
       "      <th>0</th>\n",
       "      <td>20001218X45444</td>\n",
       "      <td>Accident</td>\n",
       "      <td>SEA87LA080</td>\n",
       "      <td>1948-10-24</td>\n",
       "      <td>MOOSE CREEK, ID</td>\n",
       "      <td>United States</td>\n",
       "      <td>NaN</td>\n",
       "      <td>NaN</td>\n",
       "      <td>NaN</td>\n",
       "      <td>NaN</td>\n",
       "      <td>...</td>\n",
       "      <td>Personal</td>\n",
       "      <td>NaN</td>\n",
       "      <td>2.0</td>\n",
       "      <td>0.0</td>\n",
       "      <td>0.0</td>\n",
       "      <td>0.0</td>\n",
       "      <td>UNK</td>\n",
       "      <td>Cruise</td>\n",
       "      <td>Probable Cause</td>\n",
       "      <td>NaN</td>\n",
       "    </tr>\n",
       "    <tr>\n",
       "      <th>1</th>\n",
       "      <td>20001218X45447</td>\n",
       "      <td>Accident</td>\n",
       "      <td>LAX94LA336</td>\n",
       "      <td>1962-07-19</td>\n",
       "      <td>BRIDGEPORT, CA</td>\n",
       "      <td>United States</td>\n",
       "      <td>NaN</td>\n",
       "      <td>NaN</td>\n",
       "      <td>NaN</td>\n",
       "      <td>NaN</td>\n",
       "      <td>...</td>\n",
       "      <td>Personal</td>\n",
       "      <td>NaN</td>\n",
       "      <td>4.0</td>\n",
       "      <td>0.0</td>\n",
       "      <td>0.0</td>\n",
       "      <td>0.0</td>\n",
       "      <td>UNK</td>\n",
       "      <td>Unknown</td>\n",
       "      <td>Probable Cause</td>\n",
       "      <td>19-09-1996</td>\n",
       "    </tr>\n",
       "    <tr>\n",
       "      <th>2</th>\n",
       "      <td>20061025X01555</td>\n",
       "      <td>Accident</td>\n",
       "      <td>NYC07LA005</td>\n",
       "      <td>1974-08-30</td>\n",
       "      <td>Saltville, VA</td>\n",
       "      <td>United States</td>\n",
       "      <td>36.922223</td>\n",
       "      <td>-81.878056</td>\n",
       "      <td>NaN</td>\n",
       "      <td>NaN</td>\n",
       "      <td>...</td>\n",
       "      <td>Personal</td>\n",
       "      <td>NaN</td>\n",
       "      <td>3.0</td>\n",
       "      <td>NaN</td>\n",
       "      <td>NaN</td>\n",
       "      <td>NaN</td>\n",
       "      <td>IMC</td>\n",
       "      <td>Cruise</td>\n",
       "      <td>Probable Cause</td>\n",
       "      <td>26-02-2007</td>\n",
       "    </tr>\n",
       "    <tr>\n",
       "      <th>3</th>\n",
       "      <td>20001218X45448</td>\n",
       "      <td>Accident</td>\n",
       "      <td>LAX96LA321</td>\n",
       "      <td>1977-06-19</td>\n",
       "      <td>EUREKA, CA</td>\n",
       "      <td>United States</td>\n",
       "      <td>NaN</td>\n",
       "      <td>NaN</td>\n",
       "      <td>NaN</td>\n",
       "      <td>NaN</td>\n",
       "      <td>...</td>\n",
       "      <td>Personal</td>\n",
       "      <td>NaN</td>\n",
       "      <td>2.0</td>\n",
       "      <td>0.0</td>\n",
       "      <td>0.0</td>\n",
       "      <td>0.0</td>\n",
       "      <td>IMC</td>\n",
       "      <td>Cruise</td>\n",
       "      <td>Probable Cause</td>\n",
       "      <td>12-09-2000</td>\n",
       "    </tr>\n",
       "    <tr>\n",
       "      <th>4</th>\n",
       "      <td>20041105X01764</td>\n",
       "      <td>Accident</td>\n",
       "      <td>CHI79FA064</td>\n",
       "      <td>1979-08-02</td>\n",
       "      <td>Canton, OH</td>\n",
       "      <td>United States</td>\n",
       "      <td>NaN</td>\n",
       "      <td>NaN</td>\n",
       "      <td>NaN</td>\n",
       "      <td>NaN</td>\n",
       "      <td>...</td>\n",
       "      <td>Personal</td>\n",
       "      <td>NaN</td>\n",
       "      <td>1.0</td>\n",
       "      <td>2.0</td>\n",
       "      <td>NaN</td>\n",
       "      <td>0.0</td>\n",
       "      <td>VMC</td>\n",
       "      <td>Approach</td>\n",
       "      <td>Probable Cause</td>\n",
       "      <td>16-04-1980</td>\n",
       "    </tr>\n",
       "  </tbody>\n",
       "</table>\n",
       "<p>5 rows × 31 columns</p>\n",
       "</div>"
      ],
      "text/plain": [
       "         Event.Id Investigation.Type Accident.Number  Event.Date  \\\n",
       "0  20001218X45444           Accident      SEA87LA080  1948-10-24   \n",
       "1  20001218X45447           Accident      LAX94LA336  1962-07-19   \n",
       "2  20061025X01555           Accident      NYC07LA005  1974-08-30   \n",
       "3  20001218X45448           Accident      LAX96LA321  1977-06-19   \n",
       "4  20041105X01764           Accident      CHI79FA064  1979-08-02   \n",
       "\n",
       "          Location        Country   Latitude   Longitude Airport.Code  \\\n",
       "0  MOOSE CREEK, ID  United States        NaN         NaN          NaN   \n",
       "1   BRIDGEPORT, CA  United States        NaN         NaN          NaN   \n",
       "2    Saltville, VA  United States  36.922223  -81.878056          NaN   \n",
       "3       EUREKA, CA  United States        NaN         NaN          NaN   \n",
       "4       Canton, OH  United States        NaN         NaN          NaN   \n",
       "\n",
       "  Airport.Name  ... Purpose.of.flight Air.carrier Total.Fatal.Injuries  \\\n",
       "0          NaN  ...          Personal         NaN                  2.0   \n",
       "1          NaN  ...          Personal         NaN                  4.0   \n",
       "2          NaN  ...          Personal         NaN                  3.0   \n",
       "3          NaN  ...          Personal         NaN                  2.0   \n",
       "4          NaN  ...          Personal         NaN                  1.0   \n",
       "\n",
       "  Total.Serious.Injuries Total.Minor.Injuries Total.Uninjured  \\\n",
       "0                    0.0                  0.0             0.0   \n",
       "1                    0.0                  0.0             0.0   \n",
       "2                    NaN                  NaN             NaN   \n",
       "3                    0.0                  0.0             0.0   \n",
       "4                    2.0                  NaN             0.0   \n",
       "\n",
       "  Weather.Condition  Broad.phase.of.flight   Report.Status Publication.Date  \n",
       "0               UNK                 Cruise  Probable Cause              NaN  \n",
       "1               UNK                Unknown  Probable Cause       19-09-1996  \n",
       "2               IMC                 Cruise  Probable Cause       26-02-2007  \n",
       "3               IMC                 Cruise  Probable Cause       12-09-2000  \n",
       "4               VMC               Approach  Probable Cause       16-04-1980  \n",
       "\n",
       "[5 rows x 31 columns]"
      ]
     },
     "execution_count": 3,
     "metadata": {},
     "output_type": "execute_result"
    }
   ],
   "source": [
    "# The first 5 rows\n",
    "AviData.head()"
   ]
  },
  {
   "cell_type": "code",
   "execution_count": 4,
   "id": "0dea0911",
   "metadata": {},
   "outputs": [
    {
     "data": {
      "text/plain": [
       "Index(['Event.Id', 'Investigation.Type', 'Accident.Number', 'Event.Date',\n",
       "       'Location', 'Country', 'Latitude', 'Longitude', 'Airport.Code',\n",
       "       'Airport.Name', 'Injury.Severity', 'Aircraft.damage',\n",
       "       'Aircraft.Category', 'Registration.Number', 'Make', 'Model',\n",
       "       'Amateur.Built', 'Number.of.Engines', 'Engine.Type', 'FAR.Description',\n",
       "       'Schedule', 'Purpose.of.flight', 'Air.carrier', 'Total.Fatal.Injuries',\n",
       "       'Total.Serious.Injuries', 'Total.Minor.Injuries', 'Total.Uninjured',\n",
       "       'Weather.Condition', 'Broad.phase.of.flight', 'Report.Status',\n",
       "       'Publication.Date'],\n",
       "      dtype='object')"
      ]
     },
     "execution_count": 4,
     "metadata": {},
     "output_type": "execute_result"
    }
   ],
   "source": [
    "# column names#\n",
    "AviData.columns"
   ]
  },
  {
   "cell_type": "code",
   "execution_count": 5,
   "id": "bdd4491a",
   "metadata": {},
   "outputs": [
    {
     "name": "stdout",
     "output_type": "stream",
     "text": [
      "<class 'pandas.core.frame.DataFrame'>\n",
      "RangeIndex: 88889 entries, 0 to 88888\n",
      "Data columns (total 31 columns):\n",
      " #   Column                  Non-Null Count  Dtype  \n",
      "---  ------                  --------------  -----  \n",
      " 0   Event.Id                88889 non-null  object \n",
      " 1   Investigation.Type      88889 non-null  object \n",
      " 2   Accident.Number         88889 non-null  object \n",
      " 3   Event.Date              88889 non-null  object \n",
      " 4   Location                88837 non-null  object \n",
      " 5   Country                 88663 non-null  object \n",
      " 6   Latitude                34382 non-null  object \n",
      " 7   Longitude               34373 non-null  object \n",
      " 8   Airport.Code            50249 non-null  object \n",
      " 9   Airport.Name            52790 non-null  object \n",
      " 10  Injury.Severity         87889 non-null  object \n",
      " 11  Aircraft.damage         85695 non-null  object \n",
      " 12  Aircraft.Category       32287 non-null  object \n",
      " 13  Registration.Number     87572 non-null  object \n",
      " 14  Make                    88826 non-null  object \n",
      " 15  Model                   88797 non-null  object \n",
      " 16  Amateur.Built           88787 non-null  object \n",
      " 17  Number.of.Engines       82805 non-null  float64\n",
      " 18  Engine.Type             81812 non-null  object \n",
      " 19  FAR.Description         32023 non-null  object \n",
      " 20  Schedule                12582 non-null  object \n",
      " 21  Purpose.of.flight       82697 non-null  object \n",
      " 22  Air.carrier             16648 non-null  object \n",
      " 23  Total.Fatal.Injuries    77488 non-null  float64\n",
      " 24  Total.Serious.Injuries  76379 non-null  float64\n",
      " 25  Total.Minor.Injuries    76956 non-null  float64\n",
      " 26  Total.Uninjured         82977 non-null  float64\n",
      " 27  Weather.Condition       84397 non-null  object \n",
      " 28  Broad.phase.of.flight   61724 non-null  object \n",
      " 29  Report.Status           82508 non-null  object \n",
      " 30  Publication.Date        75118 non-null  object \n",
      "dtypes: float64(5), object(26)\n",
      "memory usage: 21.0+ MB\n"
     ]
    }
   ],
   "source": [
    "# Information on the dataset\n",
    "AviData.info()"
   ]
  },
  {
   "cell_type": "code",
   "execution_count": 6,
   "id": "f7624af4",
   "metadata": {},
   "outputs": [
    {
     "data": {
      "text/plain": [
       "(88889, 31)"
      ]
     },
     "execution_count": 6,
     "metadata": {},
     "output_type": "execute_result"
    }
   ],
   "source": [
    "# shape of the dataset\n",
    "AviData.shape"
   ]
  },
  {
   "cell_type": "code",
   "execution_count": 7,
   "id": "4f546c26",
   "metadata": {},
   "outputs": [
    {
     "data": {
      "text/plain": [
       "Schedule                  0.858453\n",
       "Air.carrier               0.812710\n",
       "FAR.Description           0.639742\n",
       "Aircraft.Category         0.636772\n",
       "Longitude                 0.613304\n",
       "Latitude                  0.613203\n",
       "Airport.Code              0.434699\n",
       "Airport.Name              0.406113\n",
       "Broad.phase.of.flight     0.305606\n",
       "Publication.Date          0.154924\n",
       "Total.Serious.Injuries    0.140737\n",
       "Total.Minor.Injuries      0.134246\n",
       "Total.Fatal.Injuries      0.128261\n",
       "Engine.Type               0.079616\n",
       "Report.Status             0.071786\n",
       "Purpose.of.flight         0.069660\n",
       "Number.of.Engines         0.068445\n",
       "Total.Uninjured           0.066510\n",
       "Weather.Condition         0.050535\n",
       "Aircraft.damage           0.035932\n",
       "Registration.Number       0.014816\n",
       "Injury.Severity           0.011250\n",
       "Country                   0.002542\n",
       "Amateur.Built             0.001147\n",
       "Model                     0.001035\n",
       "Make                      0.000709\n",
       "Location                  0.000585\n",
       "Event.Date                0.000000\n",
       "Accident.Number           0.000000\n",
       "Investigation.Type        0.000000\n",
       "Event.Id                  0.000000\n",
       "dtype: float64"
      ]
     },
     "execution_count": 7,
     "metadata": {},
     "output_type": "execute_result"
    }
   ],
   "source": [
    "#To check missing values in percentage from large to small\n",
    "AviData.isna().mean().sort_values(ascending=False)"
   ]
  },
  {
   "cell_type": "markdown",
   "id": "28c62f5e",
   "metadata": {},
   "source": [
    "#### Observation\n",
    "\n",
    "- We have 31 columns and 88889 rows.\n",
    "- Most of our columns have categorical data; some of which we will have to change\n",
    "- Most of our columns have missing data, a few have more than 60% missing data\n",
    "\n",
    "##### Point to note\n",
    "We will have to go through each column to decide wether to replace or fill\n",
    "- We will use fillna() or replace()\n",
    "- We use 'unknown' for categorical data and mean or 0 for numerical data\n",
    "- We can also drop columns using dropna()\n",
    "\n",
    "##### Next step\n",
    " - We make a copy before any changes to preserve the original dataset\n",
    " - Go through each column and find if it's important in our analysis\n",
    " - Identify what to drop\n",
    " - \n",
    "\n",
    "\n",
    "\n",
    "\n"
   ]
  },
  {
   "cell_type": "code",
   "execution_count": 8,
   "id": "249dd67b",
   "metadata": {},
   "outputs": [
    {
     "data": {
      "text/plain": [
       "(88889, 31)"
      ]
     },
     "execution_count": 8,
     "metadata": {},
     "output_type": "execute_result"
    }
   ],
   "source": [
    "#copy of the original data before we start dropping \n",
    "data = AviData.copy(deep=True)\n",
    "data.shape"
   ]
  },
  {
   "cell_type": "code",
   "execution_count": 9,
   "id": "85a64b54",
   "metadata": {},
   "outputs": [
    {
     "data": {
      "text/plain": [
       "Index(['Event.Id', 'Investigation.Type', 'Accident.Number', 'Event.Date',\n",
       "       'Location', 'Country', 'Latitude', 'Longitude', 'Airport.Code',\n",
       "       'Airport.Name', 'Injury.Severity', 'Aircraft.damage',\n",
       "       'Aircraft.Category', 'Registration.Number', 'Make', 'Model',\n",
       "       'Amateur.Built', 'Number.of.Engines', 'Engine.Type', 'FAR.Description',\n",
       "       'Schedule', 'Purpose.of.flight', 'Air.carrier', 'Total.Fatal.Injuries',\n",
       "       'Total.Serious.Injuries', 'Total.Minor.Injuries', 'Total.Uninjured',\n",
       "       'Weather.Condition', 'Broad.phase.of.flight', 'Report.Status',\n",
       "       'Publication.Date'],\n",
       "      dtype='object')"
      ]
     },
     "execution_count": 9,
     "metadata": {},
     "output_type": "execute_result"
    }
   ],
   "source": [
    "data.columns"
   ]
  },
  {
   "cell_type": "code",
   "execution_count": 10,
   "id": "1418cc17",
   "metadata": {},
   "outputs": [
    {
     "data": {
      "text/html": [
       "<div>\n",
       "<style scoped>\n",
       "    .dataframe tbody tr th:only-of-type {\n",
       "        vertical-align: middle;\n",
       "    }\n",
       "\n",
       "    .dataframe tbody tr th {\n",
       "        vertical-align: top;\n",
       "    }\n",
       "\n",
       "    .dataframe thead th {\n",
       "        text-align: right;\n",
       "    }\n",
       "</style>\n",
       "<table border=\"1\" class=\"dataframe\">\n",
       "  <thead>\n",
       "    <tr style=\"text-align: right;\">\n",
       "      <th></th>\n",
       "      <th>count</th>\n",
       "      <th>mean</th>\n",
       "      <th>std</th>\n",
       "      <th>min</th>\n",
       "      <th>25%</th>\n",
       "      <th>50%</th>\n",
       "      <th>75%</th>\n",
       "      <th>max</th>\n",
       "    </tr>\n",
       "  </thead>\n",
       "  <tbody>\n",
       "    <tr>\n",
       "      <th>Number.of.Engines</th>\n",
       "      <td>82805.0</td>\n",
       "      <td>1.146585</td>\n",
       "      <td>0.446510</td>\n",
       "      <td>0.0</td>\n",
       "      <td>1.0</td>\n",
       "      <td>1.0</td>\n",
       "      <td>1.0</td>\n",
       "      <td>8.0</td>\n",
       "    </tr>\n",
       "    <tr>\n",
       "      <th>Total.Fatal.Injuries</th>\n",
       "      <td>77488.0</td>\n",
       "      <td>0.647855</td>\n",
       "      <td>5.485960</td>\n",
       "      <td>0.0</td>\n",
       "      <td>0.0</td>\n",
       "      <td>0.0</td>\n",
       "      <td>0.0</td>\n",
       "      <td>349.0</td>\n",
       "    </tr>\n",
       "    <tr>\n",
       "      <th>Total.Serious.Injuries</th>\n",
       "      <td>76379.0</td>\n",
       "      <td>0.279881</td>\n",
       "      <td>1.544084</td>\n",
       "      <td>0.0</td>\n",
       "      <td>0.0</td>\n",
       "      <td>0.0</td>\n",
       "      <td>0.0</td>\n",
       "      <td>161.0</td>\n",
       "    </tr>\n",
       "    <tr>\n",
       "      <th>Total.Minor.Injuries</th>\n",
       "      <td>76956.0</td>\n",
       "      <td>0.357061</td>\n",
       "      <td>2.235625</td>\n",
       "      <td>0.0</td>\n",
       "      <td>0.0</td>\n",
       "      <td>0.0</td>\n",
       "      <td>0.0</td>\n",
       "      <td>380.0</td>\n",
       "    </tr>\n",
       "    <tr>\n",
       "      <th>Total.Uninjured</th>\n",
       "      <td>82977.0</td>\n",
       "      <td>5.325440</td>\n",
       "      <td>27.913634</td>\n",
       "      <td>0.0</td>\n",
       "      <td>0.0</td>\n",
       "      <td>1.0</td>\n",
       "      <td>2.0</td>\n",
       "      <td>699.0</td>\n",
       "    </tr>\n",
       "  </tbody>\n",
       "</table>\n",
       "</div>"
      ],
      "text/plain": [
       "                          count      mean        std  min  25%  50%  75%  \\\n",
       "Number.of.Engines       82805.0  1.146585   0.446510  0.0  1.0  1.0  1.0   \n",
       "Total.Fatal.Injuries    77488.0  0.647855   5.485960  0.0  0.0  0.0  0.0   \n",
       "Total.Serious.Injuries  76379.0  0.279881   1.544084  0.0  0.0  0.0  0.0   \n",
       "Total.Minor.Injuries    76956.0  0.357061   2.235625  0.0  0.0  0.0  0.0   \n",
       "Total.Uninjured         82977.0  5.325440  27.913634  0.0  0.0  1.0  2.0   \n",
       "\n",
       "                          max  \n",
       "Number.of.Engines         8.0  \n",
       "Total.Fatal.Injuries    349.0  \n",
       "Total.Serious.Injuries  161.0  \n",
       "Total.Minor.Injuries    380.0  \n",
       "Total.Uninjured         699.0  "
      ]
     },
     "execution_count": 10,
     "metadata": {},
     "output_type": "execute_result"
    }
   ],
   "source": [
    "data.describe().T"
   ]
  },
  {
   "cell_type": "code",
   "execution_count": 11,
   "id": "a05c6ad3",
   "metadata": {},
   "outputs": [
    {
     "data": {
      "text/plain": [
       "Index(['event_id', 'investigation_type', 'accident_number', 'event_date',\n",
       "       'location', 'country', 'latitude', 'longitude', 'airport_code',\n",
       "       'airport_name', 'injury_severity', 'aircraft_damage',\n",
       "       'aircraft_category', 'registration_number', 'make', 'model',\n",
       "       'amateur_built', 'number_of_engines', 'engine_type', 'far_description',\n",
       "       'schedule', 'purpose_of_flight', 'air_carrier', 'total_fatal_injuries',\n",
       "       'total_serious_injuries', 'total_minor_injuries', 'total_uninjured',\n",
       "       'weather_condition', 'broad_phase_of_flight', 'report_status',\n",
       "       'publication_date'],\n",
       "      dtype='object')"
      ]
     },
     "execution_count": 11,
     "metadata": {},
     "output_type": "execute_result"
    }
   ],
   "source": [
    "# normalize column names\n",
    "data.columns= data.columns.str.strip().str.lower().str.replace('.','_')\n",
    "data.columns\n"
   ]
  },
  {
   "cell_type": "markdown",
   "id": "be5b7931",
   "metadata": {},
   "source": [
    "## Data Preparation\n",
    "In this section we will perform\n",
    "- Data cleaning\n",
    "- Exploratory data analysis\n",
    "- Feature Engineering\n"
   ]
  },
  {
   "cell_type": "markdown",
   "id": "1fc53868",
   "metadata": {},
   "source": [
    "### 🧼 Data Cleaning\n",
    "\n",
    "The goal of data cleaning is to transform the raw dataset into a structured and reliable format suitable for analysis. Key steps included:\n",
    "Handle missing values, Drop columns with excessive missing data, Impute missing values using appropriate statistical or categorical strategies, Data Filtering, Remove irrelevant or incomplete records (e.g. non-aircraft incidents or missing key variables), Categorical Grouping, Group low-frequency entries under broader labels (e.g. \"Other\"), Data Type Correction, Convert date columns to proper datetime format, Ensure numerical columns were correctly typed for analysis, and Outlier Treatment.\n",
    "These steps ensure we have a clean, consistent, and relevant dataset to move forward with meaningful visualizations and business insights.\n"
   ]
  },
  {
   "cell_type": "code",
   "execution_count": 12,
   "id": "ffd0b240",
   "metadata": {},
   "outputs": [
    {
     "data": {
      "text/plain": [
       "event_id                      0\n",
       "investigation_type            0\n",
       "accident_number               0\n",
       "event_date                    0\n",
       "location                     52\n",
       "country                     226\n",
       "latitude                  54507\n",
       "longitude                 54516\n",
       "airport_code              38640\n",
       "airport_name              36099\n",
       "injury_severity            1000\n",
       "aircraft_damage            3194\n",
       "aircraft_category         56602\n",
       "registration_number        1317\n",
       "make                         63\n",
       "model                        92\n",
       "amateur_built               102\n",
       "number_of_engines          6084\n",
       "engine_type                7077\n",
       "far_description           56866\n",
       "schedule                  76307\n",
       "purpose_of_flight          6192\n",
       "air_carrier               72241\n",
       "total_fatal_injuries      11401\n",
       "total_serious_injuries    12510\n",
       "total_minor_injuries      11933\n",
       "total_uninjured            5912\n",
       "weather_condition          4492\n",
       "broad_phase_of_flight     27165\n",
       "report_status              6381\n",
       "publication_date          13771\n",
       "dtype: int64"
      ]
     },
     "execution_count": 12,
     "metadata": {},
     "output_type": "execute_result"
    }
   ],
   "source": [
    "#set to show all items\n",
    "pd.set_option('display.max_columns',None)\n",
    "#To check missing values in each column\n",
    "data.isna().sum()"
   ]
  },
  {
   "cell_type": "markdown",
   "id": "b087923f",
   "metadata": {},
   "source": [
    "#### Dropping columns\n",
    "From data understanding above, we learned that most of our columns were missing values. We will drop all columns missing more than 15%. It may seem very extreme but we chose that percentage since also all of the other columns we don't need are in this percentage. It is important to note that analysis with more than 40% missingness may lead to biasness\n",
    " - Example: \n",
    " 1. Schedule and air carrier have more than 80% missing values, fillna with mode will bias analysis\n",
    " - We may keep far description and aircraft category by filling in unknown "
   ]
  },
  {
   "cell_type": "code",
   "execution_count": 13,
   "id": "dbf765ab",
   "metadata": {},
   "outputs": [
    {
     "data": {
      "text/plain": [
       "(88889, 23)"
      ]
     },
     "execution_count": 13,
     "metadata": {},
     "output_type": "execute_result"
    }
   ],
   "source": [
    "#identify what to retain\n",
    "retain= ['far_description','aircraft_category']\n",
    "#Select the threshold for missing values\n",
    "threshold= 0.15 \n",
    "#find columns with 15% or more missing values\n",
    "dropped_all= data.columns[data.isna().mean()>=threshold]\n",
    "#exempt the columns to retain\n",
    "dropped=[col for col in dropped_all if col not in retain]\n",
    "#drop the identified columns\n",
    "data= data.drop(columns=dropped)\n",
    "data.shape"
   ]
  },
  {
   "cell_type": "code",
   "execution_count": 14,
   "id": "b6487c0f",
   "metadata": {},
   "outputs": [],
   "source": [
    "#change everything to lowercase\n",
    "text_columns = data.select_dtypes(include=['object', 'category']).columns\n",
    "\n",
    "for col in text_columns:\n",
    "    data[col] = data[col].str.lower().replace(\n",
    "        {'none': 'unknown', 'unknown': 'unknown', 'unk': 'unknown'}\n",
    "    )"
   ]
  },
  {
   "cell_type": "markdown",
   "id": "1dc52953",
   "metadata": {},
   "source": [
    "#### a. Far description and Aircraft category\n",
    "\n",
    "We will fill the missing values with unknown since most of the values are missing. Filling any other thing will affect the analysis"
   ]
  },
  {
   "cell_type": "code",
   "execution_count": 15,
   "id": "cb932017",
   "metadata": {},
   "outputs": [
    {
     "data": {
      "text/plain": [
       "[None, None]"
      ]
     },
     "execution_count": 15,
     "metadata": {},
     "output_type": "execute_result"
    }
   ],
   "source": [
    "#uniform unique values in far description\n",
    "data['far_description']=data['far_description'].replace({'Unknown': 'unknown', 'UNK': 'unknown', '091': 'part 91: General Aviation'})\n",
    "\n",
    "#uniform unique values in aircraft category\n",
    "data['aircraft_category']=data['aircraft_category'].replace({'Unknown': 'unknown', 'UNK': 'unknown'})\n",
    "\n",
    "#fill retain with unknown\n",
    "[data[col].fillna('unknown', inplace=True)for col in retain]\n"
   ]
  },
  {
   "cell_type": "markdown",
   "id": "f71729d5",
   "metadata": {},
   "source": [
    "#### b. Event_id\n",
    "#### Observation \n",
    "We will keep the event_id \n",
    "- It has no missing values\n",
    "- The difference in total and unique events is because some event_ids are similar\n",
    "- The other values in the rows are not all similar"
   ]
  },
  {
   "cell_type": "code",
   "execution_count": 16,
   "id": "f2eced83",
   "metadata": {},
   "outputs": [
    {
     "name": "stdout",
     "output_type": "stream",
     "text": [
      "There are 87951 unique events out of 88889 total events\n",
      "There are 0 missing events\n"
     ]
    }
   ],
   "source": [
    "#we check for duplicates in event_id\n",
    "missing_events= data['event_id'].isna().sum()\n",
    "unique_events= data['event_id'].nunique()\n",
    "total_events = len(data['event_id'])\n",
    "print(f'There are {unique_events} unique events out of {total_events} total events')\n",
    "print(f'There are {missing_events} missing events')"
   ]
  },
  {
   "cell_type": "markdown",
   "id": "d777e3db",
   "metadata": {},
   "source": [
    "#### c. Investigation type\n",
    "\n",
    "We will keep this column\n",
    "- It has 2 values (Accident, Incident)\n",
    "- It has 0 missing values\n"
   ]
  },
  {
   "cell_type": "code",
   "execution_count": 17,
   "id": "8691ac76",
   "metadata": {},
   "outputs": [
    {
     "name": "stdout",
     "output_type": "stream",
     "text": [
      "There are 0 missing values and 2 unique values\n"
     ]
    }
   ],
   "source": [
    "#check for missing values\n",
    "msn= data['investigation_type'].isna().sum()\n",
    "nun= data['investigation_type'].nunique()\n",
    "print(f'There are {msn} missing values and {nun} unique values')\n",
    "\n"
   ]
  },
  {
   "cell_type": "markdown",
   "id": "2f942784",
   "metadata": {},
   "source": [
    "#### d. Accident Number\n",
    "#### Observation\n",
    "The column has no missing values\n",
    "The column has 88863 unique values\n",
    "We will keep it\n"
   ]
  },
  {
   "cell_type": "code",
   "execution_count": 18,
   "id": "31745f6b",
   "metadata": {},
   "outputs": [
    {
     "name": "stdout",
     "output_type": "stream",
     "text": [
      "There are 0 missing values and 88863 unique values\n"
     ]
    }
   ],
   "source": [
    "msn1= data['accident_number'].isna().sum()\n",
    "nun1= data['accident_number'].nunique()\n",
    "print(f'There are {msn1} missing values and {nun1} unique values')"
   ]
  },
  {
   "cell_type": "markdown",
   "id": "c4c7d577",
   "metadata": {},
   "source": [
    "#### e. Event Date\n",
    "#### Observation\n",
    "We will normalize the dates so they are all uniform\n",
    "- We set the date format to year-month-day\n",
    "- The column has no missing values"
   ]
  },
  {
   "cell_type": "code",
   "execution_count": 19,
   "id": "af6b5e59",
   "metadata": {},
   "outputs": [
    {
     "name": "stdout",
     "output_type": "stream",
     "text": [
      "There are 0 missing values and the data type is datetime64[ns]\n"
     ]
    }
   ],
   "source": [
    "#changing dtype to datetime\n",
    "data['event_date']=pd.to_datetime(data['event_date'])#y-m-day\n",
    "msn2= data['event_date'].isna().sum()\n",
    "type= data['event_date'].dtype\n",
    "print(f'There are {msn2} missing values and the data type is {type}')"
   ]
  },
  {
   "cell_type": "markdown",
   "id": "414a38d1",
   "metadata": {},
   "source": [
    "#### f. Location & Country\n",
    "- We had 52 missing values that we filled with unknown\n",
    "- We will merge Us state codes with the location\n",
    "- We will also fill missing data in country with unknown"
   ]
  },
  {
   "cell_type": "code",
   "execution_count": 20,
   "id": "49d37609",
   "metadata": {},
   "outputs": [],
   "source": [
    "#load us_codes\n",
    "codes = r\"C:\\Users\\USER\\Documents\\moringa_school\\phase_1\\phase_1_project\\Data\\USState_Codes.csv\"\n",
    "us_codes = pd.read_csv(codes, encoding='latin1', low_memory=False)"
   ]
  },
  {
   "cell_type": "code",
   "execution_count": 21,
   "id": "fc90a511",
   "metadata": {},
   "outputs": [],
   "source": [
    "# standardize location and country using the above dataset\n",
    "oldl= ['MISSING','Unknown', 'UNK']\n",
    "newl= 'unknown'\n",
    "data['location'].replace('oldl','newl')\n",
    "state_dict= dict(zip(us_codes['US_State'].str.lower(),us_codes['Abbreviation']))\n",
    "data['location']=data['location'].str.lower().map(state_dict).fillna(data['location'])\n",
    "data['location'].fillna('unknown',inplace=True)\n",
    "\n",
    "abbrevs= us_codes['Abbreviation'].tolist()\n",
    "data['country']= data.apply(\n",
    "     lambda x: 'USA' if x['location'] in abbrevs else x['country'], axis=1\n",
    "                            )\n",
    "data['country'].fillna('unknown', inplace=True)\n",
    "\n",
    "\n"
   ]
  },
  {
   "cell_type": "markdown",
   "id": "cf2a3676",
   "metadata": {},
   "source": [
    "#### g. Make, Model & Amateur build\n",
    "\n",
    "Since the missing values are very small 1% we will fill the mode for categorical values and median for numerical values"
   ]
  },
  {
   "cell_type": "code",
   "execution_count": 22,
   "id": "a86ba887",
   "metadata": {},
   "outputs": [
    {
     "name": "stdout",
     "output_type": "stream",
     "text": [
      "Columns with <1% missing values: ['make', 'model', 'amateur_built']\n"
     ]
    },
    {
     "data": {
      "text/plain": [
       "[0                           stinson\n",
       " 1                             piper\n",
       " 2                            cessna\n",
       " 3                          rockwell\n",
       " 4                            cessna\n",
       "                     ...            \n",
       " 88884                         piper\n",
       " 88885                      bellanca\n",
       " 88886    american champion aircraft\n",
       " 88887                        cessna\n",
       " 88888                         piper\n",
       " Name: make, Length: 88889, dtype: object,\n",
       " 0            108-3\n",
       " 1         pa24-180\n",
       " 2             172m\n",
       " 3              112\n",
       " 4              501\n",
       "            ...    \n",
       " 88884    pa-28-151\n",
       " 88885         7eca\n",
       " 88886        8gcbc\n",
       " 88887         210n\n",
       " 88888    pa-24-260\n",
       " Name: model, Length: 88889, dtype: object,\n",
       " 0        no\n",
       " 1        no\n",
       " 2        no\n",
       " 3        no\n",
       " 4        no\n",
       "          ..\n",
       " 88884    no\n",
       " 88885    no\n",
       " 88886    no\n",
       " 88887    no\n",
       " 88888    no\n",
       " Name: amateur_built, Length: 88889, dtype: object]"
      ]
     },
     "execution_count": 22,
     "metadata": {},
     "output_type": "execute_result"
    }
   ],
   "source": [
    "#Fill median and mode for <1% missingness\n",
    "low_missing_cols = data.columns[(data.isna().sum() > 0) & (data.isna().sum() < 0.01 * len(data))]\n",
    "print(f\"Columns with <1% missing values: {list(low_missing_cols)}\")\n",
    "#Fill missing values and make values uniform\n",
    "for col in low_missing_cols:\n",
    "    if data[col].dtype in ['object', 'category']:  # Categorical\n",
    "        data[col].fillna(data[col].mode()[0], inplace=True)\n",
    "#make the unique values uniform\n",
    "[data[col].str.lower().replace('UNKNOWN','unknown') for col in low_missing_cols]\n"
   ]
  },
  {
   "cell_type": "markdown",
   "id": "8c824cec",
   "metadata": {},
   "source": [
    "#### h. Injuries & number of engines\n",
    "\n",
    "Since total fatal injuries, total serious injuries, total minor injuries, and total uninjured have moderately high level of missingness, we will fill the missing values with 0 and median for number of engines\n"
   ]
  },
  {
   "cell_type": "code",
   "execution_count": 23,
   "id": "e8d2dbb1",
   "metadata": {},
   "outputs": [],
   "source": [
    "# #fill missing values\n",
    "# uniq= pd.DataFrame((data['total_fatal_injuries'].unique()),\n",
    "#                    columns=['total_fatal_injuries'])\n",
    "# uniq\n",
    "int_col=['number_of_engines','total_fatal_injuries','total_serious_injuries',\n",
    "         'total_minor_injuries','total_uninjured']\n",
    "data[int_col].replace(' ','NaN')\n",
    "for col in int_col:\n",
    "    data[col].fillna(data[col].median(), inplace=True)  # Impute with median\n",
    "\n",
    "#Convert numerical columns to integer type\n",
    "for col in int_col:\n",
    "    if col in data.columns:\n",
    "        try:\n",
    "            data[col] = data[col].astype(int)\n",
    "        except ValueError as e:\n",
    "            print(f\"Error converting {col} to int: {e}\")\n",
    "            print(f\"Unique values in {col}: {data[col].unique()}\")\n"
   ]
  },
  {
   "cell_type": "markdown",
   "id": "7d531dbb",
   "metadata": {},
   "source": [
    "#### i. aircraft damage, registration number, engine type, purpose of flight, weather condition, report status, injury severity\n",
    "\n",
    "We will also fill unknown for the missing values in the above columns.\n",
    "For columns  like registration number we cannot just imput any number like a median or median since it is a unique value."
   ]
  },
  {
   "cell_type": "code",
   "execution_count": 24,
   "id": "c04cba63",
   "metadata": {},
   "outputs": [
    {
     "name": "stdout",
     "output_type": "stream",
     "text": [
      "Columns with moderate missing values: ['aircraft_damage', 'registration_number', 'engine_type', 'purpose_of_flight', 'weather_condition', 'report_status', 'clean_injury_severity']\n"
     ]
    }
   ],
   "source": [
    "# Function to classify injury severity\n",
    "def classify_injury_severity(value):\n",
    "    if pd.isna(value) or str(value).strip().lower() in ['', 'unavailable', 'unknown']:\n",
    "        return 'unknown'\n",
    "    \n",
    "    value = str(value).strip().lower()\n",
    "\n",
    "    if 'non-fatal' in value:\n",
    "        return 'Non-Fatal'\n",
    "    elif 'fatal' in value:\n",
    "        return 'Fatal'\n",
    "    elif 'incident' in value:\n",
    "        return 'Incident'\n",
    "    elif 'accident' in value:\n",
    "        return 'Accident (No Injury)'\n",
    "    else:\n",
    "        return 'unknown'\n",
    "\n",
    "# Apply the function\n",
    "data['clean_injury_severity'] = data['injury_severity'].apply(classify_injury_severity)\n",
    "\n",
    "moderate_missing_cols = ['aircraft_damage', 'registration_number', 'engine_type', \n",
    "                         'purpose_of_flight', 'weather_condition', 'report_status',\n",
    "                         'clean_injury_severity']\n",
    "print(f\"Columns with moderate missing values: {list(moderate_missing_cols)}\")\n",
    "#Replace and fill with unknown\n",
    "for col in moderate_missing_cols:\n",
    "     if col in data.columns and data[col].dtype in ['object', 'category']:\n",
    "        data[col].replace({'None':'unknown', 'Unknown':'unknown','NONE':'unknown','UNK':'unknown','Unk':'unknown'})\n",
    "        data[col].fillna('unknown', inplace=True)\n"
   ]
  },
  {
   "cell_type": "code",
   "execution_count": 25,
   "id": "2a17db1a",
   "metadata": {},
   "outputs": [
    {
     "data": {
      "text/plain": [
       "event_id                     0\n",
       "investigation_type           0\n",
       "accident_number              0\n",
       "event_date                   0\n",
       "location                     0\n",
       "country                      0\n",
       "injury_severity           1000\n",
       "aircraft_damage              0\n",
       "aircraft_category            0\n",
       "registration_number          0\n",
       "make                         0\n",
       "model                        0\n",
       "amateur_built                0\n",
       "number_of_engines            0\n",
       "engine_type                  0\n",
       "far_description              0\n",
       "purpose_of_flight            0\n",
       "total_fatal_injuries         0\n",
       "total_serious_injuries       0\n",
       "total_minor_injuries         0\n",
       "total_uninjured              0\n",
       "weather_condition            0\n",
       "report_status                0\n",
       "clean_injury_severity        0\n",
       "dtype: int64"
      ]
     },
     "execution_count": 25,
     "metadata": {},
     "output_type": "execute_result"
    }
   ],
   "source": [
    "#Verify dataset is clean\n",
    "data.isna().sum()"
   ]
  },
  {
   "cell_type": "code",
   "execution_count": 26,
   "id": "bb3f1fcb",
   "metadata": {},
   "outputs": [
    {
     "name": "stdout",
     "output_type": "stream",
     "text": [
      "<class 'pandas.core.frame.DataFrame'>\n",
      "RangeIndex: 88889 entries, 0 to 88888\n",
      "Columns: 24 entries, event_id to clean_injury_severity\n",
      "dtypes: datetime64[ns](1), int32(5), object(18)\n",
      "memory usage: 14.6+ MB\n"
     ]
    }
   ],
   "source": [
    "data.info(verbose=False)"
   ]
  },
  {
   "cell_type": "code",
   "execution_count": 27,
   "id": "b2bc0e40",
   "metadata": {},
   "outputs": [
    {
     "data": {
      "image/png": "[encoded data removed]",
      "text/plain": [
       "<Figure size 432x288 with 1 Axes>"
      ]
     },
     "metadata": {
      "needs_background": "light"
     },
     "output_type": "display_data"
    }
   ],
   "source": [
    "# Outliers in total minor injuries using IQR\n",
    "Q1 = data['total_minor_injuries'].quantile(0.25)\n",
    "Q3 = data['total_minor_injuries'].quantile(0.75)\n",
    "IQR = Q3 - Q1\n",
    "\n",
    "# Define outlier boundaries\n",
    "lower_bound = Q1 - 1.5 * IQR\n",
    "upper_bound = Q3 + 1.5 * IQR\n",
    "\n",
    "# Filter the dataframe to remove outliers\n",
    "no_outliers = data[(data['total_minor_injuries'] >= lower_bound) & (data['total_minor_injuries'] <= upper_bound)]\n",
    "plt.boxplot([data['total_minor_injuries'], no_outliers['total_minor_injuries']])\n",
    "plt.title('Comparisong before and after removing outliers')\n",
    "plt.ylabel('total_minor_injuries')\n",
    "plt.grid(True);"
   ]
  },
  {
   "cell_type": "markdown",
   "id": "179cc1c8",
   "metadata": {},
   "source": [
    "#### Observation\n",
    "Total minor injuries is now zero for all measures of central tendency after outliers are removed"
   ]
  },
  {
   "cell_type": "code",
   "execution_count": 28,
   "id": "29ada2d6",
   "metadata": {},
   "outputs": [],
   "source": [
    "#Save the clean dataset\n",
    "data.to_csv('clean_aircraft.csv',index=False)"
   ]
  },
  {
   "cell_type": "markdown",
   "id": "b143d668",
   "metadata": {},
   "source": [
    "### Exploratory Data Analysis\n",
    "Here we will use visualization tools to answer the business questions that guide our analysis; in business understanding"
   ]
  },
  {
   "cell_type": "code",
   "execution_count": 29,
   "id": "57f5b199",
   "metadata": {},
   "outputs": [
    {
     "data": {
      "text/html": [
       "<div>\n",
       "<style scoped>\n",
       "    .dataframe tbody tr th:only-of-type {\n",
       "        vertical-align: middle;\n",
       "    }\n",
       "\n",
       "    .dataframe tbody tr th {\n",
       "        vertical-align: top;\n",
       "    }\n",
       "\n",
       "    .dataframe thead th {\n",
       "        text-align: right;\n",
       "    }\n",
       "</style>\n",
       "<table border=\"1\" class=\"dataframe\">\n",
       "  <thead>\n",
       "    <tr style=\"text-align: right;\">\n",
       "      <th></th>\n",
       "      <th>Mean</th>\n",
       "      <th>Min</th>\n",
       "      <th>Max</th>\n",
       "      <th>Median</th>\n",
       "      <th>Mode</th>\n",
       "      <th>Skewness</th>\n",
       "      <th>Kurtosis</th>\n",
       "    </tr>\n",
       "  </thead>\n",
       "  <tbody>\n",
       "    <tr>\n",
       "      <th>number_of_engines</th>\n",
       "      <td>1.14</td>\n",
       "      <td>0.0</td>\n",
       "      <td>8.0</td>\n",
       "      <td>1.0</td>\n",
       "      <td>1.0</td>\n",
       "      <td>2.71</td>\n",
       "      <td>13.15</td>\n",
       "    </tr>\n",
       "    <tr>\n",
       "      <th>total_fatal_injuries</th>\n",
       "      <td>0.56</td>\n",
       "      <td>0.0</td>\n",
       "      <td>349.0</td>\n",
       "      <td>0.0</td>\n",
       "      <td>0.0</td>\n",
       "      <td>35.32</td>\n",
       "      <td>1552.21</td>\n",
       "    </tr>\n",
       "    <tr>\n",
       "      <th>total_serious_injuries</th>\n",
       "      <td>0.24</td>\n",
       "      <td>0.0</td>\n",
       "      <td>161.0</td>\n",
       "      <td>0.0</td>\n",
       "      <td>0.0</td>\n",
       "      <td>53.01</td>\n",
       "      <td>4315.73</td>\n",
       "    </tr>\n",
       "    <tr>\n",
       "      <th>total_minor_injuries</th>\n",
       "      <td>0.31</td>\n",
       "      <td>0.0</td>\n",
       "      <td>380.0</td>\n",
       "      <td>0.0</td>\n",
       "      <td>0.0</td>\n",
       "      <td>93.38</td>\n",
       "      <td>14193.99</td>\n",
       "    </tr>\n",
       "    <tr>\n",
       "      <th>total_uninjured</th>\n",
       "      <td>5.04</td>\n",
       "      <td>0.0</td>\n",
       "      <td>699.0</td>\n",
       "      <td>1.0</td>\n",
       "      <td>1.0</td>\n",
       "      <td>9.41</td>\n",
       "      <td>112.31</td>\n",
       "    </tr>\n",
       "  </tbody>\n",
       "</table>\n",
       "</div>"
      ],
      "text/plain": [
       "                        Mean  Min    Max  Median  Mode  Skewness  Kurtosis\n",
       "number_of_engines       1.14  0.0    8.0     1.0   1.0      2.71     13.15\n",
       "total_fatal_injuries    0.56  0.0  349.0     0.0   0.0     35.32   1552.21\n",
       "total_serious_injuries  0.24  0.0  161.0     0.0   0.0     53.01   4315.73\n",
       "total_minor_injuries    0.31  0.0  380.0     0.0   0.0     93.38  14193.99\n",
       "total_uninjured         5.04  0.0  699.0     1.0   1.0      9.41    112.31"
      ]
     },
     "execution_count": 29,
     "metadata": {},
     "output_type": "execute_result"
    }
   ],
   "source": [
    "# Measure of Central Tendency\n",
    "stat_summary= {}\n",
    "for col in int_col:\n",
    "    stat_summary[col]= {\n",
    "        'Mean': data[col].mean(),\n",
    "        'Min': data[col].min(),\n",
    "        'Max': data[col].max(),\n",
    "        'Median': data[col].median(),\n",
    "        'Mode': data[col].mode().values[0],\n",
    "        'Skewness': data[col].skew(),\n",
    "        'Kurtosis': data[col].kurtosis()\n",
    "    }\n",
    "stat_summary_data= pd.DataFrame(stat_summary).T.round(2)\n",
    "stat_summary_data"
   ]
  },
  {
   "cell_type": "markdown",
   "id": "130120ed",
   "metadata": {},
   "source": [
    "#### Interpretation on Measure of Central Tendency\n",
    "1. mean, median, mode\n",
    " - most accident s don't result in injuries since median and mode is 0\n",
    " - For total injured most flights have 1 uninjured (small aircraft)\n",
    "   but some have many as in mean of 5.04 (commercial flights)\n",
    "2. Skewness\n",
    " - We have a positive skew meaning data has a long tailon the right\n",
    " - Injury columns have positive skewness meaning most values are zero or less\n",
    " - total minor injuries has a hugh skew which could be a result of outliers\n",
    "3. Kurtosis\n",
    "- A normal distribution has kurtosis approaching 3\n",
    "- Values > 3 indicate heavy tails (outliers); this shows we have extreme outliers"
   ]
  },
  {
   "cell_type": "markdown",
   "id": "5e81fb43",
   "metadata": {},
   "source": [
    "#### a. Univariate Analysis\n",
    "\n",
    "- For numerical columns, we will find the summary statistics; mean. median, std deviation, min and max and we will plot a histogram for our visualization.\n",
    "- For categorical columns, we will use count plots and bar plots"
   ]
  },
  {
   "cell_type": "code",
   "execution_count": 30,
   "id": "21c88508",
   "metadata": {},
   "outputs": [
    {
     "data": {
      "image/png": "[encoded data removed]",
      "text/plain": [
       "<Figure size 720x432 with 1 Axes>"
      ]
     },
     "metadata": {
      "needs_background": "light"
     },
     "output_type": "display_data"
    }
   ],
   "source": [
    "# Plot distribution of Aircraft Make (Top 10)\n",
    "plt.figure(figsize=(10,6))\n",
    "top_makes = data['make'].value_counts().nlargest(10)\n",
    "sns.barplot(x=top_makes.values, y=top_makes.index, palette='ocean')\n",
    "plt.title('Top 10 Aircraft Makes Involved in Accidents')\n",
    "plt.xlabel('Number of Accidents')\n",
    "plt.ylabel('Aircraft Make')\n",
    "plt.show()"
   ]
  },
  {
   "cell_type": "code",
   "execution_count": 31,
   "id": "88da0c1a",
   "metadata": {},
   "outputs": [
    {
     "data": {
      "image/png": "[encoded data removed]",
      "text/plain": [
       "<Figure size 576x360 with 1 Axes>"
      ]
     },
     "metadata": {
      "needs_background": "light"
     },
     "output_type": "display_data"
    }
   ],
   "source": [
    "# Plot distribution of Purpose of Flight\n",
    "plt.figure(figsize=(8,5))\n",
    "top_purpose = data['purpose_of_flight'].value_counts().nlargest(8)\n",
    "sns.barplot(x=top_purpose.values, y=top_purpose.index, palette='OrRd_r')\n",
    "plt.title('Top 8 Purposes of Flight in Accidents')\n",
    "plt.xlabel('Number of Accidents')\n",
    "plt.ylabel('Purpose of Flight')\n",
    "plt.show()"
   ]
  },
  {
   "cell_type": "code",
   "execution_count": 32,
   "id": "ed2c2a74",
   "metadata": {},
   "outputs": [
    {
     "data": {
      "image/png": "[encoded data removed]",
      "text/plain": [
       "<Figure size 576x360 with 1 Axes>"
      ]
     },
     "metadata": {
      "needs_background": "light"
     },
     "output_type": "display_data"
    }
   ],
   "source": [
    "# Use groupby to count injury severity\n",
    "injury_counts = data.groupby('clean_injury_severity').size().reset_index(name='counts')\n",
    "\n",
    "# Sort by counts for better visual order\n",
    "injury_counts = injury_counts.sort_values(by='counts', ascending=False)\n",
    "\n",
    "# Plot distribution of Injury Severity\n",
    "plt.figure(figsize=(8,5))\n",
    "sns.barplot(data=injury_counts, x='clean_injury_severity', y='counts', palette='Set2')\n",
    "plt.title('Distribution of Injury Severityusing groupby')\n",
    "plt.xlabel('clean_injury_severity')\n",
    "plt.ylabel('Number of Accidents')\n",
    "plt.xticks(rotation=45)\n",
    "plt.show()"
   ]
  },
  {
   "cell_type": "code",
   "execution_count": 33,
   "id": "180e5260",
   "metadata": {},
   "outputs": [
    {
     "data": {
      "image/png": "[encoded data removed]",
      "text/plain": [
       "<Figure size 432x288 with 1 Axes>"
      ]
     },
     "metadata": {
      "needs_background": "light"
     },
     "output_type": "display_data"
    }
   ],
   "source": [
    "# Plot distribution of Weather Condition\n",
    "plt.figure(figsize=(6,4))\n",
    "sns.countplot(data=data, x='weather_condition', palette='viridis')\n",
    "plt.title('Weather Condition During Accidents')\n",
    "plt.xlabel('Weather Condition')\n",
    "plt.ylabel('Count')\n",
    "plt.show()"
   ]
  },
  {
   "cell_type": "markdown",
   "id": "f06073af",
   "metadata": {},
   "source": [
    "##### Observations\n",
    "1. A few well known manufacturers dominate accident reports, which may be a reflection of high market share as opposed to poor safety records\n",
    " - Recommendation:\n",
    "    Choose aircrafts from well established manufacturers with robust safety records and strong maintenance support\n",
    "2. Highest accident counts are in personal, instructional and business aviation\n",
    " - Recommendation:\n",
    "    For low risks, commercial operations offer safety due to strict regulations and operational standards.Pilot experience and maintenance may be the reason as to why personal and instructional aviation has a higher risk\n",
    "3. A majority of accidents are non-fatal or incidents; incidents are more \n",
    " - Recommendation:\n",
    "    The best approach here is to invest in trining pilots, maintenance of the aircrafts and getting newer models to reduce severity risks\n",
    "4. Most accidents occur in VMC (good weather) compared to IMC (poor weather) "
   ]
  },
  {
   "cell_type": "code",
   "execution_count": 34,
   "id": "63133ac4",
   "metadata": {},
   "outputs": [
    {
     "data": {
      "image/png": "[encoded data removed]",
      "text/plain": [
       "<Figure size 576x432 with 1 Axes>"
      ]
     },
     "metadata": {
      "needs_background": "light"
     },
     "output_type": "display_data"
    }
   ],
   "source": [
    "# Create a boxplot for total fatal injuries\n",
    "plt.figure(figsize=(8, 6))\n",
    "sns.boxplot(x=data['total_fatal_injuries'], color='b')\n",
    "plt.title('Boxplot of Total Fatal Injuries')\n",
    "plt.xlabel('Total Fatal Injuries')\n",
    "plt.show()\n"
   ]
  },
  {
   "cell_type": "markdown",
   "id": "9d58db93",
   "metadata": {},
   "source": [
    "##### Observation\n",
    "- Most of the fatalities are zero as seen in the boxplot, there are a few accidents that cause fatalities\n",
    "- The outlier seen with 350 fatal injuries if likely from a big aircraft. Since most of the aircrafts in our dataset are small, this would explain why it appears as an outlier\n",
    "-Removing the outliers using the IQR will alter our analysis since they are not false\n"
   ]
  },
  {
   "cell_type": "markdown",
   "id": "a1bfaf28",
   "metadata": {},
   "source": [
    "#### b. Bivariate Analysis"
   ]
  },
  {
   "cell_type": "code",
   "execution_count": 35,
   "id": "b6bf0774",
   "metadata": {},
   "outputs": [
    {
     "data": {
      "image/png": "[encoded data removed]",
      "text/plain": [
       "<Figure size 720x432 with 1 Axes>"
      ]
     },
     "metadata": {
      "needs_background": "light"
     },
     "output_type": "display_data"
    }
   ],
   "source": [
    "# Extract year from event_date\n",
    "data['event_year'] = data['event_date'].dt.year\n",
    "\n",
    "# Group by year and count event_id\n",
    "event_counts = data.groupby('event_year')['event_id'].count().reset_index()\n",
    "\n",
    "# Plot the line graph\n",
    "plt.figure(figsize=(10,6))\n",
    "plt.plot(event_counts['event_year'], event_counts['event_id'], marker='o', color='blue')\n",
    "plt.title('Event Count by Year')\n",
    "plt.xlabel('Year')\n",
    "plt.ylabel('Number of Events')\n",
    "plt.show()"
   ]
  },
  {
   "cell_type": "markdown",
   "id": "2ffe21e8",
   "metadata": {},
   "source": [
    "##### Observation\n",
    "here are seasonal patterns in aviation accidents. Understanding and adapting to seasonal patterns directly contributes to lower operational risk, improved safety records, and higher profitability."
   ]
  },
  {
   "cell_type": "code",
   "execution_count": 36,
   "id": "e542a289",
   "metadata": {},
   "outputs": [
    {
     "data": {
      "image/png": "[encoded data removed]",
      "text/plain": [
       "<Figure size 432x288 with 2 Axes>"
      ]
     },
     "metadata": {
      "needs_background": "light"
     },
     "output_type": "display_data"
    }
   ],
   "source": [
    "#correlation heatmap for int_col(numerical columns) and \n",
    "data_num= data.select_dtypes(include= 'number')\n",
    "corr= data_num.corr()\n",
    "sns.heatmap(corr,annot=True, fmt='.2f', cmap='coolwarm')\n",
    "plt.title('Correlation Heatmap of Injuries and number of engines', fontsize=14)\n",
    "plt.show()"
   ]
  },
  {
   "cell_type": "markdown",
   "id": "1c476135",
   "metadata": {},
   "source": [
    "##### Observation\n",
    "- Strong negative correlation (-0.82) between total fatalities and total uninjured, which is expected — if fatalities go up, survivors go down.\n",
    "\n",
    "- Positive correlation (0.53) between serious injuries and fatalities, meaning accidents with serious injuries are more likely to also have fatalities.\n",
    "\n",
    "- Number of engines has weak correlation with injuries, suggesting that engine count alone doesn't strongly determine injury severity.\n",
    "\n",
    "- Minor injuries show weak correlations with all other factors, reaffirming that minor injuries are rare and scattered.\n",
    "\n"
   ]
  },
  {
   "cell_type": "code",
   "execution_count": 37,
   "id": "5ae8f5d2",
   "metadata": {},
   "outputs": [
    {
     "data": {
      "image/png": "[encoded data removed]",
      "text/plain": [
       "<Figure size 576x432 with 1 Axes>"
      ]
     },
     "metadata": {
      "needs_background": "light"
     },
     "output_type": "display_data"
    }
   ],
   "source": [
    "# Fatal injuries VS Number of engines\n",
    "plt.figure(figsize=(8, 6))\n",
    "sns.scatterplot(data=data, x='number_of_engines', y='total_fatal_injuries', color='red')\n",
    "\n",
    "plt.title('Fatal Injuries vs. Number of Engines', fontsize=14)\n",
    "plt.xlabel('Number of Engines')\n",
    "plt.ylabel('Total Fatal Injuries')\n",
    "plt.grid(axis='both', linestyle='--')\n",
    "\n",
    "plt.show()"
   ]
  },
  {
   "cell_type": "markdown",
   "id": "f17c4471",
   "metadata": {},
   "source": [
    "##### Observations\n",
    "- Most aircraft, regardless of having 1 or 2 engines, cluster around zero fatal injuries — suggesting that most accidents aren't fatal.\n",
    "\n",
    "- There is no strong visible trend showing that more engines lead to more or fewer fatal injuries.\n",
    "\n",
    "- Occasional spikes in fatal injuries happen both for single-engine and multi-engine aircraft, meaning engine count alone isn't a strong predictor of fatalities."
   ]
  },
  {
   "cell_type": "markdown",
   "id": "f3a2f36e",
   "metadata": {},
   "source": [
    "#### c. Multivariate Analysis"
   ]
  },
  {
   "cell_type": "code",
   "execution_count": 38,
   "id": "45fd396e",
   "metadata": {},
   "outputs": [
    {
     "data": {
      "image/png": "[encoded data removed]",
      "text/plain": [
       "<Figure size 864x432 with 1 Axes>"
      ]
     },
     "metadata": {
      "needs_background": "light"
     },
     "output_type": "display_data"
    }
   ],
   "source": [
    "plt.figure(figsize=(12, 6))\n",
    "sns.boxplot(data=data,x='weather_condition',y='total_fatal_injuries',hue='aircraft_damage',palette='Set2')\n",
    "\n",
    "plt.title('Total Fatal Injuries by Weather Condition and Aircraft Damage', fontsize=14)\n",
    "plt.xlabel('Weather Condition')\n",
    "plt.ylabel('Total Fatal Injuries')\n",
    "plt.xticks(rotation=45)\n",
    "plt.legend(title='Aircraft Damage')\n",
    "plt.grid(axis='y' );\n"
   ]
  },
  {
   "cell_type": "markdown",
   "id": "d8c64d8a",
   "metadata": {},
   "source": [
    "##### Observation\n",
    "Adverse weather conditions (IMC, rain, snow) tend to show fewer incidents overall, but when they occur, the severity is typically higher — particularly when the aircraft sustains substantial or destroyed damage.\n",
    "\n",
    "##### Recommendation\n",
    "- Invest in aircraft with stronger structural integrity and damage resistance, especially if operations will occur in regions prone to variable or poor weather conditions.\n",
    "\n",
    "- Focus on advanced weather-avoidance technologies and pilot training for IMC conditions, as weather paired with severe aircraft damage significantly increases fatalities.\n",
    "\n",
    "- For risk mitigation, prioritize strict weather-related flight restrictions, particularly for aircraft models prone to higher damage levels in poor conditions."
   ]
  }
 ],
 "metadata": {
  "kernelspec": {
   "display_name": "learn-env",
   "language": "python",
   "name": "python3"
  },
  "language_info": {
   "codemirror_mode": {
    "name": "ipython",
    "version": 3
   },
   "file_extension": ".py",
   "mimetype": "text/x-python",
   "name": "python",
   "nbconvert_exporter": "python",
   "pygments_lexer": "ipython3",
   "version": "3.8.5"
  }
 },
 "nbformat": 4,
 "nbformat_minor": 5
}
