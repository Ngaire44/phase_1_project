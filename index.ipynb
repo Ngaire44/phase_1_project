{
 "cells": [
  {
   "cell_type": "markdown",
   "id": "c8f0afe3",
   "metadata": {},
   "source": [
    "# Aviation Risk Analysis\n"
   ]
  },
  {
   "cell_type": "code",
   "execution_count": null,
   "id": "e3d27ef1",
   "metadata": {},
   "outputs": [],
   "source": []
  }
 ],
 "metadata": {
  "kernelspec": {
   "display_name": "learn-env",
   "language": "python",
   "name": "python3"
  },
  "language_info": {
   "name": "python",
   "version": "3.8.5"
  }
 },
 "nbformat": 4,
 "nbformat_minor": 5
}
