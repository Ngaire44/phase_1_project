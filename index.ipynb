{
 "cells": [
  {
   "cell_type": "markdown",
   "id": "c8f0afe3",
   "metadata": {},
   "source": [
    "# Aviation Risk Analysis\n",
    "## 📊 Data-Driven Strategy to entering the aviation industry\n",
    "This project uses the National Transportation Safety Board aviation accident data from 1962 to 2023 in United States and international waters. We will use this to identify strategic opportunities, risks and patterns.\n",
    "\n",
    "Through exploratory data analysis, trends and visualizations, we will give concrete data-driven business recommendations. This will help investors, insurers assess the risk exposurers and make informed decisions that are low risk.\n"
   ]
  },
  {
   "cell_type": "markdown",
   "id": "dde27d70",
   "metadata": {},
   "source": [
    "## ❓ Key Business Questions\n",
    "As we seek the answers to the questions below, the questions will guide the direction of my project\n",
    "1. Which aircraft make are least frequently involved in accidents\n",
    "    This helps decide on the make or manufacturers(amateur built)\n",
    "2. What are the most common causes of aviation accidents\n",
    "    This helps to understand risk trends, are newer models safer than older one\n",
    "3. What percentage of accidents are survivable and what factors influence survivability?\n",
    "    Here, we willl check on engines, weather\n",
    "4. How do accident rates vary by operator type (commercial vs private)\n",
    "    This help to decide the aviation sector to indulge in\n",
    "5. Are there seasonal patterns in aviation accidents\n",
    "    This helps comin weather contingency planning\n",
    "6. What factors contribute to fatal accidents(weather, broad phase of flight)\n",
    "    Helps decide on aircraft specs"
   ]
  },
  {
   "cell_type": "markdown",
   "id": "e3702a7c",
   "metadata": {},
   "source": []
  },
  {
   "cell_type": "markdown",
   "id": "82a761bf",
   "metadata": {},
   "source": []
  }
 ],
 "metadata": {
  "kernelspec": {
   "display_name": "learn-env",
   "language": "python",
   "name": "python3"
  },
  "language_info": {
   "name": "python",
   "version": "3.8.5"
  }
 },
 "nbformat": 4,
 "nbformat_minor": 5
}
